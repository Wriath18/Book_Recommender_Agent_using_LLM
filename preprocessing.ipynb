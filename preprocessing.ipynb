{
 "cells": [
  {
   "cell_type": "code",
   "execution_count": 18,
   "metadata": {},
   "outputs": [],
   "source": [
    "import pandas as pd"
   ]
  },
  {
   "cell_type": "code",
   "execution_count": 19,
   "metadata": {},
   "outputs": [],
   "source": [
    "df = pd.read_csv('Books_df.csv')"
   ]
  },
  {
   "cell_type": "code",
   "execution_count": 20,
   "metadata": {},
   "outputs": [],
   "source": [
    "df = df.drop(columns=['No. of People rated', 'URLs', 'Type', 'Unnamed: 0'], axis=1)"
   ]
  },
  {
   "cell_type": "code",
   "execution_count": 21,
   "metadata": {},
   "outputs": [
    {
     "data": {
      "text/html": [
       "<div>\n",
       "<style scoped>\n",
       "    .dataframe tbody tr th:only-of-type {\n",
       "        vertical-align: middle;\n",
       "    }\n",
       "\n",
       "    .dataframe tbody tr th {\n",
       "        vertical-align: top;\n",
       "    }\n",
       "\n",
       "    .dataframe thead th {\n",
       "        text-align: right;\n",
       "    }\n",
       "</style>\n",
       "<table border=\"1\" class=\"dataframe\">\n",
       "  <thead>\n",
       "    <tr style=\"text-align: right;\">\n",
       "      <th></th>\n",
       "      <th>Title</th>\n",
       "      <th>Author</th>\n",
       "      <th>Main Genre</th>\n",
       "      <th>Sub Genre</th>\n",
       "      <th>Price</th>\n",
       "      <th>Rating</th>\n",
       "    </tr>\n",
       "  </thead>\n",
       "  <tbody>\n",
       "    <tr>\n",
       "      <th>0</th>\n",
       "      <td>The Complete Novel of Sherlock Holmes</td>\n",
       "      <td>Arthur Conan Doyle</td>\n",
       "      <td>Arts, Film &amp; Photography</td>\n",
       "      <td>Cinema &amp; Broadcast</td>\n",
       "      <td>₹169.00</td>\n",
       "      <td>4.4</td>\n",
       "    </tr>\n",
       "    <tr>\n",
       "      <th>1</th>\n",
       "      <td>Black Holes (L) : The Reith Lectures [Paperbac...</td>\n",
       "      <td>Stephen Hawking</td>\n",
       "      <td>Arts, Film &amp; Photography</td>\n",
       "      <td>Cinema &amp; Broadcast</td>\n",
       "      <td>₹99.00</td>\n",
       "      <td>4.5</td>\n",
       "    </tr>\n",
       "    <tr>\n",
       "      <th>2</th>\n",
       "      <td>The Kite Runner</td>\n",
       "      <td>Khaled Hosseini</td>\n",
       "      <td>Arts, Film &amp; Photography</td>\n",
       "      <td>Cinema &amp; Broadcast</td>\n",
       "      <td>₹175.75</td>\n",
       "      <td>4.6</td>\n",
       "    </tr>\n",
       "    <tr>\n",
       "      <th>3</th>\n",
       "      <td>Greenlights: Raucous stories and outlaw wisdom...</td>\n",
       "      <td>Matthew McConaughey</td>\n",
       "      <td>Arts, Film &amp; Photography</td>\n",
       "      <td>Cinema &amp; Broadcast</td>\n",
       "      <td>₹389.00</td>\n",
       "      <td>4.6</td>\n",
       "    </tr>\n",
       "    <tr>\n",
       "      <th>4</th>\n",
       "      <td>The Science of Storytelling: Why Stories Make ...</td>\n",
       "      <td>Will Storr</td>\n",
       "      <td>Arts, Film &amp; Photography</td>\n",
       "      <td>Cinema &amp; Broadcast</td>\n",
       "      <td>₹348.16</td>\n",
       "      <td>4.5</td>\n",
       "    </tr>\n",
       "  </tbody>\n",
       "</table>\n",
       "</div>"
      ],
      "text/plain": [
       "                                               Title               Author  \\\n",
       "0              The Complete Novel of Sherlock Holmes   Arthur Conan Doyle   \n",
       "1  Black Holes (L) : The Reith Lectures [Paperbac...      Stephen Hawking   \n",
       "2                                    The Kite Runner      Khaled Hosseini   \n",
       "3  Greenlights: Raucous stories and outlaw wisdom...  Matthew McConaughey   \n",
       "4  The Science of Storytelling: Why Stories Make ...           Will Storr   \n",
       "\n",
       "                 Main Genre           Sub Genre    Price  Rating  \n",
       "0  Arts, Film & Photography  Cinema & Broadcast  ₹169.00     4.4  \n",
       "1  Arts, Film & Photography  Cinema & Broadcast   ₹99.00     4.5  \n",
       "2  Arts, Film & Photography  Cinema & Broadcast  ₹175.75     4.6  \n",
       "3  Arts, Film & Photography  Cinema & Broadcast  ₹389.00     4.6  \n",
       "4  Arts, Film & Photography  Cinema & Broadcast  ₹348.16     4.5  "
      ]
     },
     "execution_count": 21,
     "metadata": {},
     "output_type": "execute_result"
    }
   ],
   "source": [
    "df.head()"
   ]
  },
  {
   "cell_type": "code",
   "execution_count": 28,
   "metadata": {},
   "outputs": [
    {
     "name": "stdout",
     "output_type": "stream",
     "text": [
      "30\n"
     ]
    }
   ],
   "source": [
    "genre_list = df['Main Genre'].unique()\n",
    "print(len(genre_list))"
   ]
  },
  {
   "cell_type": "code",
   "execution_count": 29,
   "metadata": {},
   "outputs": [],
   "source": [
    "df_sorted = df.sort_values(by=['Main Genre', 'Rating'], ascending=[True, False])"
   ]
  },
  {
   "cell_type": "code",
   "execution_count": 31,
   "metadata": {},
   "outputs": [
    {
     "data": {
      "text/html": [
       "<div>\n",
       "<style scoped>\n",
       "    .dataframe tbody tr th:only-of-type {\n",
       "        vertical-align: middle;\n",
       "    }\n",
       "\n",
       "    .dataframe tbody tr th {\n",
       "        vertical-align: top;\n",
       "    }\n",
       "\n",
       "    .dataframe thead th {\n",
       "        text-align: right;\n",
       "    }\n",
       "</style>\n",
       "<table border=\"1\" class=\"dataframe\">\n",
       "  <thead>\n",
       "    <tr style=\"text-align: right;\">\n",
       "      <th></th>\n",
       "      <th>Title</th>\n",
       "      <th>Author</th>\n",
       "      <th>Main Genre</th>\n",
       "      <th>Sub Genre</th>\n",
       "      <th>Price</th>\n",
       "      <th>Rating</th>\n",
       "    </tr>\n",
       "  </thead>\n",
       "  <tbody>\n",
       "    <tr>\n",
       "      <th>30</th>\n",
       "      <td>The Supernatural Quiz Book: 500 Questions and ...</td>\n",
       "      <td>Light Bulb Quizzes</td>\n",
       "      <td>Arts, Film &amp; Photography</td>\n",
       "      <td>Cinema &amp; Broadcast</td>\n",
       "      <td>₹404.00</td>\n",
       "      <td>5.0</td>\n",
       "    </tr>\n",
       "    <tr>\n",
       "      <th>120</th>\n",
       "      <td>அசுரனின் காதல் (Tamil Edition)</td>\n",
       "      <td>Ebin Rider</td>\n",
       "      <td>Arts, Film &amp; Photography</td>\n",
       "      <td>Theater &amp; Ballet</td>\n",
       "      <td>₹400.00</td>\n",
       "      <td>5.0</td>\n",
       "    </tr>\n",
       "    <tr>\n",
       "      <th>132</th>\n",
       "      <td>Funny Jokes for 15 Year Old Teens: The Ultimat...</td>\n",
       "      <td>Cooper The Pooper</td>\n",
       "      <td>Arts, Film &amp; Photography</td>\n",
       "      <td>Theater &amp; Ballet</td>\n",
       "      <td>₹165.00</td>\n",
       "      <td>5.0</td>\n",
       "    </tr>\n",
       "    <tr>\n",
       "      <th>135</th>\n",
       "      <td>अभिनेता जीवन-एक संघर्ष: Evaluate yourself befo...</td>\n",
       "      <td>Pankaj Gupta</td>\n",
       "      <td>Arts, Film &amp; Photography</td>\n",
       "      <td>Theater &amp; Ballet</td>\n",
       "      <td>₹99.00</td>\n",
       "      <td>5.0</td>\n",
       "    </tr>\n",
       "    <tr>\n",
       "      <th>147</th>\n",
       "      <td>Marainthirunthu Paarkum Marmam Enna..!!!: மறைந...</td>\n",
       "      <td>Thiyashi Vijay</td>\n",
       "      <td>Arts, Film &amp; Photography</td>\n",
       "      <td>Theater &amp; Ballet</td>\n",
       "      <td>₹250.00</td>\n",
       "      <td>5.0</td>\n",
       "    </tr>\n",
       "  </tbody>\n",
       "</table>\n",
       "</div>"
      ],
      "text/plain": [
       "                                                 Title              Author  \\\n",
       "30   The Supernatural Quiz Book: 500 Questions and ...  Light Bulb Quizzes   \n",
       "120                     அசுரனின் காதல் (Tamil Edition)          Ebin Rider   \n",
       "132  Funny Jokes for 15 Year Old Teens: The Ultimat...   Cooper The Pooper   \n",
       "135  अभिनेता जीवन-एक संघर्ष: Evaluate yourself befo...        Pankaj Gupta   \n",
       "147  Marainthirunthu Paarkum Marmam Enna..!!!: மறைந...      Thiyashi Vijay   \n",
       "\n",
       "                   Main Genre           Sub Genre    Price  Rating  \n",
       "30   Arts, Film & Photography  Cinema & Broadcast  ₹404.00     5.0  \n",
       "120  Arts, Film & Photography    Theater & Ballet  ₹400.00     5.0  \n",
       "132  Arts, Film & Photography    Theater & Ballet  ₹165.00     5.0  \n",
       "135  Arts, Film & Photography    Theater & Ballet   ₹99.00     5.0  \n",
       "147  Arts, Film & Photography    Theater & Ballet  ₹250.00     5.0  "
      ]
     },
     "execution_count": 31,
     "metadata": {},
     "output_type": "execute_result"
    }
   ],
   "source": [
    "df_sorted.head()"
   ]
  },
  {
   "cell_type": "code",
   "execution_count": 32,
   "metadata": {},
   "outputs": [],
   "source": [
    "filtered_df = pd.DataFrame()"
   ]
  },
  {
   "cell_type": "code",
   "execution_count": 33,
   "metadata": {},
   "outputs": [],
   "source": [
    "for genre, group in df_sorted.groupby('Main Genre'):\n",
    "    top_100 = group.head(100)\n",
    "    filtered_df = pd.concat([filtered_df, top_100], ignore_index=True)"
   ]
  },
  {
   "cell_type": "code",
   "execution_count": 36,
   "metadata": {},
   "outputs": [],
   "source": [
    "filtered_df.to_csv(\"Final2.csv\", index=False, encoding='utf-8')"
   ]
  },
  {
   "cell_type": "code",
   "execution_count": null,
   "metadata": {},
   "outputs": [],
   "source": []
  }
 ],
 "metadata": {
  "kernelspec": {
   "display_name": "Python 3",
   "language": "python",
   "name": "python3"
  },
  "language_info": {
   "codemirror_mode": {
    "name": "ipython",
    "version": 3
   },
   "file_extension": ".py",
   "mimetype": "text/x-python",
   "name": "python",
   "nbconvert_exporter": "python",
   "pygments_lexer": "ipython3",
   "version": "3.10.11"
  }
 },
 "nbformat": 4,
 "nbformat_minor": 2
}
